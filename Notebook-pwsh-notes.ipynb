{
    "cells": [
        {
            "cell_type": "code",
            "execution_count": null,
            "metadata": {
                "dotnet_interactive": {
                    "language": "pwsh"
                }
            },
            "outputs": [],
            "source": [
                "Write-Host 'Hello, PowerShell!' \n",
                "#-ForegroundColor Yellow -BackgroundColor Magenta"
            ]
        },
        {
            "cell_type": "markdown",
            "metadata": {},
            "source": [
                "# Outline for this talk\n",
                "\n",
                "1. Intro - 1 min\n",
                "2. Overview (high level, fast) - 5 min\n",
                "3. Basics - 24 min\n",
                "4. Exercise - 30 min"
            ]
        },
        {
            "cell_type": "markdown",
            "metadata": {
                "azdata_cell_guid": "ba031491-3874-4032-a353-734373a7464a"
            },
            "source": [
                "## Overview\n",
                "\n",
                "### Do Big Things\n",
                "  - Make Sweeping File Changes\n",
                "  - Wrangle Data\n",
                "  - Use Web Apis (Make Web Apis, but that's another talk)\n",
                "  - Automate repetetive tasks\n",
                "  - Make a dashboard\n",
                "  - Manage Environments\n",
                "  \n",
                "### Do it Wherever\n",
                "  - From Windows 7 onward\n",
                "  - From WSL\n",
                "  - From a Remote Computer\n",
                "  - From a Mac\n",
                "  - From the Cloud\n",
                "\n",
                "### Disclaimer\n",
                "\n",
                "There are multiple options for syntax presented here; most often with a performance difference or specifics for the use case. \n",
                "\n",
                "_My rule of thumb_: At the shell, go with easiest to type. In a script, go with easiest to read- UNLESS the job at hand requires better performance or heightened security."
            ]
        },
        {
            "cell_type": "markdown",
            "metadata": {},
            "source": [
                "## The Basics\n",
                "\n",
                "### Shell\n",
                "\n",
                "A REPL - Read Eval Print Loop\n",
                "\n",
                "- Tab completion. Begin typing and hit tab key for autocompletion\n",
                "- Right Click is copy/paste\n",
                "- Ctrl + r  search command history\n",
                "- Profile\n",
                "- Help and discoverability"
            ]
        },
        {
            "cell_type": "code",
            "execution_count": null,
            "metadata": {
                "dotnet_interactive": {
                    "language": "pwsh"
                }
            },
            "outputs": [
                {
                    "data": {
                        "text/plain": "Unrestricted\n"
                    },
                    "output_type": "unknown"
                }
            ],
            "source": [
                "Get-ExecutionPolicy"
            ]
        },
        {
            "cell_type": "markdown",
            "metadata": {
                "dotnet_interactive": {
                    "language": "pwsh"
                }
            },
            "source": [
                "### Versions\n",
                "\n",
                "5 is Windows-only. .NET Framework\n",
                "\n",
                "7 is pwsh.exe. Cross-Plat, .NET Core, .NET 5+\n"
            ]
        },
        {
            "cell_type": "markdown",
            "metadata": {},
            "source": [
                "\n",
                "### Execution policy\n",
                "\n",
                "First experience with powershell: someone tells you to run a script. You run it and get an error. You now hate powershell.\n"
            ]
        },
        {
            "cell_type": "code",
            "execution_count": null,
            "metadata": {
                "dotnet_interactive": {
                    "language": "pwsh"
                }
            },
            "outputs": [],
            "source": [
                "$PSVersionTable"
            ]
        },
        {
            "cell_type": "markdown",
            "metadata": {},
            "source": [
                "### Scripts\n",
                "- IDEs. ISE, VSCode, Vim\n",
                "- Functions\n",
                "- Modules\n",
                "\n",
                "#### Debugger\n",
                "\n",
                "- Local\n",
                "- Remote\n"
            ]
        },
        {
            "cell_type": "markdown",
            "metadata": {
                "azdata_cell_guid": "b432c1d7-a275-4925-8c1f-0e0ac5c4d82c"
            },
            "source": [
                "### Providers\n",
                "\n",
                "Learn ONE subset of syntax and apply it in MANY cases\n",
                "\n",
                "Navigate many systems just as you would the file system\n"
            ]
        },
        {
            "cell_type": "code",
            "execution_count": null,
            "metadata": {
                "dotnet_interactive": {
                    "language": "pwsh"
                }
            },
            "outputs": [],
            "source": [
                "Get-PSProvider"
            ]
        },
        {
            "cell_type": "markdown",
            "metadata": {},
            "source": [
                "Each of these providers can use commandlets like New-Item, Get-Item, Get-ChildItem. Think of it like this... you've used 'dir' in Windows cmd or... DOS? or maybe 'ls' in bash. \n",
                "\n",
                "What if you could look at any number of systems with the same concept?\n",
                "\n",
                "Listing items with filtering, finding things you need. Grouping them and picking the parts you're interested in.\n"
            ]
        },
        {
            "cell_type": "code",
            "execution_count": null,
            "metadata": {
                "dotnet_interactive": {
                    "language": "pwsh"
                }
            },
            "outputs": [],
            "source": [
                "#Get-ChildItem Variable:\\\n",
                "\n",
                "Get-ChildItem Alias:\\"
            ]
        },
        {
            "cell_type": "code",
            "execution_count": null,
            "metadata": {
                "dotnet_interactive": {
                    "language": "pwsh"
                }
            },
            "outputs": [],
            "source": [
                "$PSVersionTable | select *"
            ]
        },
        {
            "cell_type": "markdown",
            "metadata": {
                "azdata_cell_guid": "bc8f8128-9f2f-4826-b19e-5d5c58a44702"
            },
            "source": [
                "## The Pipeline\n",
                "\n",
                "Commandlet results are .Net objects.\n",
                "\n",
                "Other shells and CLIs often return unstructured text that you'd have to parse.\n"
            ]
        },
        {
            "cell_type": "markdown",
            "metadata": {},
            "source": [
                "## Discoverability\n",
                "\n",
                "- Discover properties and use Where-Object to find the commandlet name of an alias.\n"
            ]
        },
        {
            "cell_type": "code",
            "execution_count": null,
            "metadata": {
                "dotnet_interactive": {
                    "language": "pwsh"
                }
            },
            "outputs": [],
            "source": [
                "# Inspect like this:\n",
                "\n",
                "$Items = Get-Command\n",
                "\n",
                "$Items | Select-Object * -First 1\n"
            ]
        },
        {
            "cell_type": "code",
            "execution_count": null,
            "metadata": {
                "dotnet_interactive": {
                    "language": "pwsh"
                }
            },
            "outputs": [],
            "source": [
                "\n",
                "# And like this:\n",
                "\n",
                "$Items = Get-Command\n",
                "\n",
                "$Items | Get-Member\n",
                "\n",
                "# Can it be shortened to a one-liner....?\n"
            ]
        },
        {
            "cell_type": "markdown",
            "metadata": {},
            "source": [
                "\n",
                "### WhatIf\n",
                "\n",
                "Use '-Whatif' when you're uncertain.\n"
            ]
        },
        {
            "cell_type": "code",
            "execution_count": null,
            "metadata": {
                "dotnet_interactive": {
                    "language": "pwsh"
                }
            },
            "outputs": [],
            "source": [
                "$myText = 'my fantastic text file'\n",
                "New-Item -Path ~temp/myText.txt  -ItemType File -Force -WhatIf\n",
                "Set-Content ~temp/myText.txt $myText -Verbose -WhatIf"
            ]
        },
        {
            "cell_type": "markdown",
            "metadata": {},
            "source": [
                "## Queries\n",
                "\n",
                "Filter (learn more later about filtering for performance) with Where or ?"
            ]
        },
        {
            "cell_type": "code",
            "execution_count": null,
            "metadata": {
                "dotnet_interactive": {
                    "language": "pwsh"
                }
            },
            "outputs": [],
            "source": [
                "Get-History | Where-Object {$_.CommandLine -like '*Member*'} #| Format-List"
            ]
        },
        {
            "cell_type": "markdown",
            "metadata": {},
            "source": [
                "## Loops\n",
                "\n",
                "Loop over collections with ForEach or its alias %\n",
                "\n",
                "There are also While(), Do...While, and Do...Until"
            ]
        },
        {
            "cell_type": "code",
            "execution_count": null,
            "metadata": {
                "dotnet_interactive": {
                    "language": "pwsh"
                }
            },
            "outputs": [],
            "source": [
                "Get-Process | ForEach-Object {\n",
                "   \"Process Id is: $($_.Id)\"\n",
                "}"
            ]
        },
        {
            "cell_type": "markdown",
            "metadata": {
                "azdata_cell_guid": "80cc62df-ab36-4738-b40a-7ddbe73e2010"
            },
            "source": [
                "## Range Operator\n",
                "\n",
                "The .. operator indicates a range. 1..5 means from 1 to 5. When you pipe a range to a foreach, each item in the pipeline is acted upon; 1, 2, 3, 4, 5."
            ]
        },
        {
            "cell_type": "code",
            "execution_count": null,
            "metadata": {
                "dotnet_interactive": {
                    "language": "pwsh"
                }
            },
            "outputs": [],
            "source": [
                "1..5 | % {Write-Host ($_ + $_)}"
            ]
        },
        {
            "cell_type": "markdown",
            "metadata": {},
            "source": [
                "## Arrays"
            ]
        },
        {
            "cell_type": "code",
            "execution_count": null,
            "metadata": {
                "dotnet_interactive": {
                    "language": "pwsh"
                }
            },
            "outputs": [],
            "source": [
                "$MyArray = @(\n",
                "    'yellow',\n",
                "    'white and teal',\n",
                "    'lavendar or violet',\n",
                "    'green',\n",
                "    'brown'\n",
                ")\n",
                "\n",
                "$MyArray | Sort-Object"
            ]
        },
        {
            "cell_type": "markdown",
            "metadata": {},
            "source": [
                "Access an element at a given index"
            ]
        },
        {
            "cell_type": "code",
            "execution_count": null,
            "metadata": {
                "dotnet_interactive": {
                    "language": "pwsh"
                }
            },
            "outputs": [],
            "source": [
                "$MyArray[3]"
            ]
        },
        {
            "cell_type": "markdown",
            "metadata": {},
            "source": [
                "Use properties and methods of the Array\n",
                "\n",
                "e.g. IndexOf, Length"
            ]
        },
        {
            "cell_type": "code",
            "execution_count": null,
            "metadata": {
                "dotnet_interactive": {
                    "language": "pwsh"
                }
            },
            "outputs": [],
            "source": [
                "$MyArray.IndexOf('brown')\n",
                "#help about_Arrays"
            ]
        },
        {
            "cell_type": "markdown",
            "metadata": {},
            "source": [
                "Add to an array\n",
                "\n",
                "The `+=` is one simple, but potentially costly to \"add\" to an Array\n",
                "\n",
                "It's creating a copy, so if dealing with large datasets... this is not ideal"
            ]
        },
        {
            "cell_type": "code",
            "execution_count": null,
            "metadata": {
                "dotnet_interactive": {
                    "language": "pwsh"
                }
            },
            "outputs": [],
            "source": [
                "$MyArray | Measure-Object -Word\n",
                "\n",
                "$MyArray += 'blue'\n",
                "\n",
                "$MyArray | Measure-Object -Word"
            ]
        },
        {
            "cell_type": "markdown",
            "metadata": {
                "azdata_cell_guid": "dd30f476-2ae0-494f-bf58-376e40482f46"
            },
            "source": [
                "## Hash Tables\n",
                "\n",
                "A hash table is like a Dictionary<string, object>.\n",
                "\n",
                "It's a set of Key/Value pairs."
            ]
        },
        {
            "cell_type": "code",
            "execution_count": null,
            "metadata": {
                "dotnet_interactive": {
                    "language": "pwsh"
                }
            },
            "outputs": [
                {
                    "data": {
                        "text/plain": "2\n"
                    },
                    "output_type": "unknown"
                }
            ],
            "source": [
                "$myHashTable = @{\n",
                "    key = 'value'\n",
                "    secondKey = 'secondvalue'\n",
                "    numberKey = 5\n",
                "    innerObjectKey = [pscustomobject]@{\n",
                "        name = 'innerName'\n",
                "        id = 7\n",
                "    }\n",
                "    arrayKey = @( 'first', 'second', 'third')\n",
                "}\n",
                "# A Modulo has been spotted \n",
                "$myHashTable.innerObjectKey.id % $myHashTable.numberKey"
            ]
        },
        {
            "cell_type": "markdown",
            "metadata": {
                "azdata_cell_guid": "04cee87c-9638-4470-83b7-587ea36f0aec"
            },
            "source": [
                "## PS custom objects\n",
                "\n",
                "Keys are the Properties of the object"
            ]
        },
        {
            "cell_type": "code",
            "execution_count": null,
            "metadata": {
                "dotnet_interactive": {
                    "language": "pwsh"
                }
            },
            "outputs": [],
            "source": [
                "$myCustomObject = [PSCustomObject] @{\n",
                "    AmIAHashKey = 'Am I a value?'\n",
                "    NoImAProperty = 'iAmAProperty'\n",
                "    Weight = 44.22\n",
                "    Height = 71\n",
                "    DateOfBirth = (Get-Date).AddDays(-1)\n",
                "}\n",
                "\n",
                "$myCustomObject"
            ]
        },
        {
            "cell_type": "markdown",
            "metadata": {
                "azdata_cell_guid": "133e9da4-7f24-4495-ae2b-e20e439f4d90"
            },
            "source": [
                "### Data Wrangling\n",
                "\n",
                "Build a custom data set from multiple data sources.\n",
                "\n",
                "Important bits here: \n",
                "\n",
                "- Make a new List and add to it; Rather than `$Array += $AddedItem`\n",
                "- Find a key by value in a hashtable - GETENUMERATOR!!!"
            ]
        },
        {
            "cell_type": "code",
            "execution_count": null,
            "metadata": {
                "dotnet_interactive": {
                    "language": "pwsh"
                }
            },
            "outputs": [],
            "source": [
                "$vegetableColors = @{\n",
                "    carrot = 'orange'\n",
                "    onion = 'white'\n",
                "    celery = 'light green'\n",
                "    lettuce = 'green'\n",
                "}\n",
                "\n",
                "$animals = @(\n",
                "    [pscustomobject]@{\n",
                "        type = 'horse'\n",
                "        name = 'wilbur'\n",
                "        feedTime = 'am'\n",
                "        vegColor = 'orange'\n",
                "    },\n",
                "    [pscustomobject]@{\n",
                "        type = 'cow'\n",
                "        name = 'mabel'\n",
                "        feedTime = 'pm'\n",
                "        vegColor = 'green'\n",
                "    }\n",
                ")\n",
                "\n",
                "# C# - var feedingSchedule = new List<object>();\n",
                "$feedingSchedule = New-Object System.Collections.Generic.List[object]\n",
                "\n",
                "foreach($animal in $animals){\n",
                "$feedingSchedule.Add(\n",
                "    @{\n",
                "        name = $animal.name\n",
                "        time = if($animal.feedTime -eq 'am'){'morning'}elseif($animal.feedTime -eq 'pm'){'night'}\n",
                "        food = $vegetableColors.GetEnumerator() | Where-Object { $_.Value -eq $animal.vegColor} | select -ExpandProperty Key\n",
                "    }\n",
                "    )\n",
                "}\n",
                "\n",
                "$feedingSchedule | Select-Object time, name, food"
            ]
        },
        {
            "cell_type": "markdown",
            "metadata": {
                "azdata_cell_guid": "93828e58-600a-49b6-9fce-08e8e1b41e46"
            },
            "source": [
                "As C# has nuget packages and JS has NPM, PowerShell has Modules\n",
                "\n",
                "Use what's out there, or write your own."
            ]
        },
        {
            "cell_type": "markdown",
            "metadata": {
                "azdata_cell_guid": "95935226-643a-465d-a8cf-9d8f4fba2d44"
            },
            "source": [
                "Testing - PowerShell tests are just more PowerShell. The defacto module to run tests is Pester and it's built in."
            ]
        },
        {
            "cell_type": "code",
            "execution_count": null,
            "metadata": {
                "dotnet_interactive": {
                    "language": "pwsh"
                }
            },
            "outputs": [],
            "source": [
                "Invoke-Pester"
            ]
        }
    ],
    "metadata": {
        "kernelspec": {
            "display_name": "PowerShell",
            "language": "powershell",
            "name": "powershell"
        },
        "language_info": {
            "name": "powershell",
            "version": ""
        }
    },
    "nbformat": 4,
    "nbformat_minor": 2
}