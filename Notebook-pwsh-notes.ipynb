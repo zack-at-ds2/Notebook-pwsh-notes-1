{
    "cells": [
        {
            "cell_type": "code",
            "execution_count": null,
            "metadata": {
                "dotnet_interactive": {
                    "language": "pwsh"
                }
            },
            "outputs": [],
            "source": [
                "Write-Host 'Hello, PowerShell!' \r\n",
                "# -ForegroundColor Yellow -BackgroundColor Magenta"
            ]
        },
        {
            "cell_type": "markdown",
            "metadata": {},
            "source": [
                "# Outline for this talk\n",
                "\n",
                "1. Intro - 1 min\n",
                "2. Overview (high level, fast) - 5 min\n",
                "3. Basics - 24 min\n",
                "4. Exercise - 30 min"
            ]
        },
        {
            "cell_type": "markdown",
            "metadata": {
                "azdata_cell_guid": "ba031491-3874-4032-a353-734373a7464a"
            },
            "source": [
                "## Overview\r\n",
                "\r\n",
                "### Do Big Things\r\n",
                "  - Make Sweeping File or System Changes\r\n",
                "  - Wrangle Data\r\n",
                "  - Automate repetetive or infrequent, but tedious tasks. e.g. replacing a dev VM, deploying a build.\r\n",
                "  - Use Web Apis (Make Web Apis, but that's another talk)\r\n",
                "  - Make a dashboard\r\n",
                "  - Manage Environments\r\n",
                "  \r\n",
                "### Do it Wherever\r\n",
                "  - From Windows 7 onward\r\n",
                "  - From WSL\r\n",
                "  - From a Remote Computer\r\n",
                "  - From a Mac\r\n",
                "  - From the Cloud\r\n",
                "\r\n",
                "### Disclaimer\r\n",
                "\r\n",
                "There are multiple options for syntax presented here; most often with a performance difference or specifics for the use case. \r\n",
                "\r\n",
                "_My rule of thumb_: At the shell, go with easiest to type. In a script, go with easiest to read- UNLESS the job at hand requires better performance or heightened security."
            ]
        },
        {
            "cell_type": "markdown",
            "metadata": {},
            "source": [
                "## The Basics\n",
                "\n",
                "### Shell\n",
                "\n",
                "A REPL - Read Eval Print Loop\n",
                "\n",
                "- Tab completion. Begin typing and hit tab key for autocompletion\n",
                "- Right Click is copy/paste\n",
                "- Ctrl + r  search command history\n",
                "- Profile\n",
                "- Help and discoverability"
            ]
        },
        {
            "cell_type": "markdown",
            "metadata": {},
            "source": [
                "### Scripts\r\n",
                "- IDEs. ISE, VSCode, Vim\r\n",
                "- Debugger\r\n",
                "    - Local\r\n",
                "    - Remote\r\n",
                "- Functions\r\n",
                "- Modules\r\n",
                "\r\n"
            ]
        },
        {
            "cell_type": "markdown",
            "metadata": {
                "dotnet_interactive": {
                    "language": "pwsh"
                }
            },
            "source": [
                "### Versions\n",
                "\n",
                "5 is Windows-only. .NET Framework\n",
                "\n",
                "7 is pwsh.exe. Cross-Plat, .NET Core, .NET 5+\n"
            ]
        },
        {
            "cell_type": "code",
            "execution_count": null,
            "metadata": {
                "dotnet_interactive": {
                    "language": "pwsh"
                }
            },
            "outputs": [],
            "source": [
                "$PSVersionTable"
            ]
        },
        {
            "cell_type": "markdown",
            "metadata": {},
            "source": [
                "\n",
                "### Execution policy\n",
                "\n",
                "First experience with powershell: someone tells you to run a script. You run it and get an error. You now hate powershell.\n"
            ]
        },
        {
            "cell_type": "code",
            "execution_count": null,
            "metadata": {
                "dotnet_interactive": {
                    "language": "pwsh"
                }
            },
            "outputs": [],
            "source": [
                "Get-ExecutionPolicy"
            ]
        },
        {
            "cell_type": "markdown",
            "metadata": {
                "azdata_cell_guid": "b432c1d7-a275-4925-8c1f-0e0ac5c4d82c"
            },
            "source": [
                "## Providers\n",
                "\n",
                "Learn ONE subset of syntax and apply it in MANY cases\n",
                "\n",
                "Navigate many systems just as you would the file system\n",
                "\n",
                "To try on Windows: \n",
                "\n",
                "- hklm:\\\n",
                "- cert:\\\n",
                "- wsman:\\\n",
                "- iis:\\ (with WebAdministration module)\n"
            ]
        },
        {
            "cell_type": "code",
            "execution_count": null,
            "metadata": {
                "dotnet_interactive": {
                    "language": "pwsh"
                }
            },
            "outputs": [],
            "source": [
                "Get-PSProvider"
            ]
        },
        {
            "cell_type": "markdown",
            "metadata": {},
            "source": [
                "Each of these providers can use commandlets like New-Item, Get-Item, Get-ChildItem. Think of it like this... you've used 'dir' in Windows cmd or... DOS? or maybe 'ls' in bash. \n",
                "\n",
                "What if you could look at any number of systems with the same concept?\n",
                "\n",
                "Listing items with filtering, finding things you need. Grouping them and picking the parts you're interested in.\n"
            ]
        },
        {
            "cell_type": "code",
            "execution_count": null,
            "metadata": {
                "dotnet_interactive": {
                    "language": "pwsh"
                }
            },
            "outputs": [],
            "source": [
                "Get-ChildItem Alias:\\"
            ]
        },
        {
            "cell_type": "markdown",
            "metadata": {
                "azdata_cell_guid": "bc8f8128-9f2f-4826-b19e-5d5c58a44702"
            },
            "source": [
                "## The Pipeline\n",
                "\n",
                "Commandlet results are .Net objects.\n",
                "\n",
                "Other shells and CLIs often return unstructured text that you'd have to parse.\n"
            ]
        },
        {
            "cell_type": "code",
            "execution_count": null,
            "metadata": {
                "dotnet_interactive": {
                    "language": "pwsh"
                }
            },
            "outputs": [],
            "source": [
                "$PSVersionTable | Select-Object *"
            ]
        },
        {
            "cell_type": "markdown",
            "metadata": {},
            "source": [
                "## Discoverability\r\n",
                "\r\n",
                "Commandlets _should_ follow a Verb-Noun format.\r\n",
                "\r\n",
                "Use intellisense and tab completion."
            ]
        },
        {
            "cell_type": "code",
            "execution_count": null,
            "metadata": {
                "dotnet_interactive": {
                    "language": "pwsh"
                }
            },
            "outputs": [],
            "source": [
                "Get-Verb"
            ]
        },
        {
            "cell_type": "code",
            "execution_count": null,
            "metadata": {
                "dotnet_interactive": {
                    "language": "pwsh"
                }
            },
            "outputs": [],
            "source": [
                "# One way to Inspect and Discover: tab completion\r\n",
                "\r\n",
                "Invoke-\r\n"
            ]
        },
        {
            "cell_type": "code",
            "execution_count": null,
            "metadata": {
                "dotnet_interactive": {
                    "language": "pwsh"
                }
            },
            "outputs": [],
            "source": [
                "\r\n",
                "# And like this (mention variables if not already):\r\n",
                "\r\n",
                "$Items = Get-Command\r\n",
                "\r\n",
                "$Items | Get-Member\r\n",
                "\r\n",
                "# Can it be shortened to a one-liner....?\r\n"
            ]
        },
        {
            "cell_type": "markdown",
            "metadata": {},
            "source": [
                "## Operators\r\n",
                "\r\n",
                "There many types of operators. To start, let's look at comparison operators.\r\n",
                "\r\n",
                "`-eq` checks equality like == in C#\r\n",
                "`-lt` is <\r\n",
                "`-gt` is >\r\n",
                "`!` is not\r\n",
                "`-not` is also not. Read the help and refer back often.\r\n",
                "\r\n",
                "update-help\r\n",
                "help about_operators"
            ]
        },
        {
            "cell_type": "code",
            "execution_count": null,
            "metadata": {
                "dotnet_interactive": {
                    "language": "pwsh"
                }
            },
            "outputs": [],
            "source": [
                "if(1 -eq $true) {\r\n",
                "    'Hmmm....'\r\n",
                "} else {\r\n",
                "    'In this world, 1 does not equal true.'\r\n",
                "}"
            ]
        },
        {
            "cell_type": "markdown",
            "metadata": {},
            "source": [
                "\n",
                "### WhatIf\n",
                "\n",
                "Use '-Whatif' when you're uncertain.\n"
            ]
        },
        {
            "cell_type": "code",
            "execution_count": null,
            "metadata": {
                "dotnet_interactive": {
                    "language": "pwsh"
                }
            },
            "outputs": [],
            "source": [
                "$myText = 'my fantastic text file'\n",
                "New-Item -Path ~temp/myText.txt  -ItemType File -Force -WhatIf\n",
                "Set-Content ~temp/myText.txt $myText -Verbose -WhatIf"
            ]
        },
        {
            "cell_type": "markdown",
            "metadata": {},
            "source": [
                "## Queries\n",
                "\n",
                "Filter (learn more later about filtering for performance) with Where or ?"
            ]
        },
        {
            "cell_type": "code",
            "execution_count": null,
            "metadata": {
                "dotnet_interactive": {
                    "language": "pwsh"
                }
            },
            "outputs": [],
            "source": [
                "Get-History | Where-Object {$_.CommandLine -like '*Member*'} #| Format-List"
            ]
        },
        {
            "cell_type": "markdown",
            "metadata": {},
            "source": [
                "## Loops\n",
                "\n",
                "Loop over collections with ForEach or its alias %\n",
                "\n",
                "There are also While(), Do...While, and Do...Until"
            ]
        },
        {
            "cell_type": "code",
            "execution_count": null,
            "metadata": {
                "dotnet_interactive": {
                    "language": "pwsh"
                }
            },
            "outputs": [],
            "source": [
                "Get-Process | ForEach-Object {\n",
                "   \"Process Id is: $($_.Id)\"\n",
                "}"
            ]
        },
        {
            "cell_type": "markdown",
            "metadata": {
                "azdata_cell_guid": "80cc62df-ab36-4738-b40a-7ddbe73e2010"
            },
            "source": [
                "## Range Operator\n",
                "\n",
                "The .. operator indicates a range. 1..5 means from 1 to 5. When you pipe a range to a foreach, each item in the pipeline is acted upon; 1, 2, 3, 4, 5."
            ]
        },
        {
            "cell_type": "code",
            "execution_count": null,
            "metadata": {
                "dotnet_interactive": {
                    "language": "pwsh"
                }
            },
            "outputs": [],
            "source": [
                "1..5 | % {Write-Host ($_ + $_)}"
            ]
        },
        {
            "cell_type": "markdown",
            "metadata": {},
            "source": [
                "## Arrays"
            ]
        },
        {
            "cell_type": "code",
            "execution_count": null,
            "metadata": {
                "dotnet_interactive": {
                    "language": "pwsh"
                }
            },
            "outputs": [],
            "source": [
                "$MyArray = @(\n",
                "    'yellow',\n",
                "    'white and teal',\n",
                "    'lavendar or violet',\n",
                "    'green',\n",
                "    'brown',\n",
                "    'green'\n",
                ")\n",
                "\n",
                "$MyArray | Sort-Object"
            ]
        },
        {
            "cell_type": "markdown",
            "metadata": {},
            "source": [
                "Access an element at a given index"
            ]
        },
        {
            "cell_type": "code",
            "execution_count": null,
            "metadata": {
                "dotnet_interactive": {
                    "language": "pwsh"
                }
            },
            "outputs": [],
            "source": [
                "$MyArray[3]"
            ]
        },
        {
            "cell_type": "markdown",
            "metadata": {},
            "source": [
                "Use properties and methods of the Array\n",
                "\n",
                "e.g. IndexOf, Length"
            ]
        },
        {
            "cell_type": "code",
            "execution_count": null,
            "metadata": {
                "dotnet_interactive": {
                    "language": "pwsh"
                }
            },
            "outputs": [],
            "source": [
                "$MyArray.IndexOf('brown')\n",
                "#help about_Arrays"
            ]
        },
        {
            "cell_type": "markdown",
            "metadata": {},
            "source": [
                "Add to an array\n",
                "\n",
                "The `+=` is one simple, but potentially costly to \"add\" to an Array\n",
                "\n",
                "It's creating a copy, so if dealing with large datasets... this is not ideal"
            ]
        },
        {
            "cell_type": "code",
            "execution_count": null,
            "metadata": {
                "dotnet_interactive": {
                    "language": "pwsh"
                }
            },
            "outputs": [],
            "source": [
                "$MyArray | Measure-Object -Word\n",
                "\n",
                "$MyArray += 'blue'\n",
                "\n",
                "$MyArray | Measure-Object -Word"
            ]
        },
        {
            "cell_type": "markdown",
            "metadata": {
                "azdata_cell_guid": "dd30f476-2ae0-494f-bf58-376e40482f46"
            },
            "source": [
                "## Hash Tables\n",
                "\n",
                "A hash table is like a Dictionary<string, object>.\n",
                "\n",
                "It's a set of Key/Value pairs."
            ]
        },
        {
            "cell_type": "code",
            "execution_count": null,
            "metadata": {
                "dotnet_interactive": {
                    "language": "pwsh"
                }
            },
            "outputs": [],
            "source": [
                "$myHashTable = @{\r\n",
                "    key = 'value'\r\n",
                "    secondKey = 'secondvalue'\r\n",
                "    numberKey = 5\r\n",
                "    innerObjectKey = [pscustomobject]@{\r\n",
                "        name = 'innerName'\r\n",
                "        id = 7\r\n",
                "    }\r\n",
                "    arrayKey = @( 'first', 'second', 'third')\r\n",
                "}\r\n",
                "# A wild Modulo appeared \r\n",
                "$myHashTable.innerObjectKey.id % $myHashTable.numberKey"
            ]
        },
        {
            "cell_type": "markdown",
            "metadata": {
                "azdata_cell_guid": "04cee87c-9638-4470-83b7-587ea36f0aec"
            },
            "source": [
                "## PS custom objects\n",
                "\n",
                "Keys are the Properties of the object"
            ]
        },
        {
            "cell_type": "code",
            "execution_count": null,
            "metadata": {
                "dotnet_interactive": {
                    "language": "pwsh"
                }
            },
            "outputs": [],
            "source": [
                "$myCustomObject = [PSCustomObject] @{\n",
                "    AmIAHashKey = 'Am I a value?'\n",
                "    NoImAProperty = 'iAmAProperty'\n",
                "    Weight = 44.22\n",
                "    Height = 71\n",
                "    DateOfBirth = (Get-Date).AddDays(-1)\n",
                "}\n",
                "\n",
                "$myCustomObject"
            ]
        },
        {
            "cell_type": "markdown",
            "metadata": {
                "azdata_cell_guid": "93828e58-600a-49b6-9fce-08e8e1b41e46"
            },
            "source": [
                "## Modules\n",
                "\n",
                "As C# has nuget packages and JS has NPM, PowerShell has Modules\n",
                "\n",
                "[Click here for the main gallery.](https://www.powershellgallery.com)\n",
                "\n",
                "You can produce and host your own modules."
            ]
        },
        {
            "cell_type": "code",
            "execution_count": null,
            "metadata": {
                "dotnet_interactive": {
                    "language": "pwsh"
                }
            },
            "outputs": [],
            "source": [
                "Install-Module posh-git"
            ]
        },
        {
            "cell_type": "markdown",
            "metadata": {
                "azdata_cell_guid": "95935226-643a-465d-a8cf-9d8f4fba2d44"
            },
            "source": [
                "## Testing\n",
                "\n",
                "The defacto module to run tests is Pester and it's built in."
            ]
        },
        {
            "cell_type": "code",
            "execution_count": null,
            "metadata": {
                "dotnet_interactive": {
                    "language": "pwsh"
                }
            },
            "outputs": [],
            "source": [
                "Invoke-Pester -Path ./support-files/test-demo.ps1 -Output Detailed"
            ]
        },
        {
            "cell_type": "markdown",
            "metadata": {},
            "source": [
                "## Practice\r\n",
                "\r\n",
                "Search github for a tool called PSKoans. It's a tool you can use to sharpen your skills.\r\n",
                "\r\n",
                "It explains PowerShell concepts by guiding you to fix failing pester tests\r\n",
                "\r\n"
            ]
        }
    ],
    "metadata": {
        "kernelspec": {
            "display_name": ".NET (C#)",
            "language": "C#",
            "name": ".net-csharp"
        },
        "language_info": {
            "file_extension": ".cs",
            "mimetype": "text/x-csharp",
            "name": "C#",
            "pygments_lexer": "csharp",
            "version": "9.0"
        }
    },
    "nbformat": 4,
    "nbformat_minor": 2
}