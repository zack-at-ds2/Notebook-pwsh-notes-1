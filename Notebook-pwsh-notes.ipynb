{
    "cells": [
        {
            "cell_type": "code",
            "execution_count": null,
            "metadata": {
                "dotnet_interactive": {
                    "language": "pwsh"
                }
            },
            "outputs": [
                {
                    "data": {
                        "text/plain": "\u001b[93;105mHello, PowerShell!\u001b[0m\n"
                    },
                    "output_type": "unknown"
                }
            ],
            "source": [
                "Write-Host 'Hello, PowerShell!' -ForegroundColor Yellow -BackgroundColor Magenta"
            ]
        },
        {
            "cell_type": "markdown",
            "metadata": {
                "azdata_cell_guid": "ba031491-3874-4032-a353-734373a7464a"
            },
            "source": [
                "\n",
                "## Do Big Things\n",
                "  - Make Sweeping File Changes\n",
                "  - Wrangle Spreadsheets\n",
                "  - Massage Web data\n",
                "  - Automate repetetive tasks\n",
                "  - Make a dashboard\n",
                "  - Manage Environments\n",
                "  \n",
                "## Do it Wherever\n",
                "  - From Windows 7 onward\n",
                "  - From WSL\n",
                "  - From a Remote Computer\n",
                "  - From a Mac\n",
                "  - From the Cloud\n",
                "  \n",
                "\n",
                "### The shell - or Read Eval Print Loop\n",
                "- execution policy. First experience with powershell: someone tells you to run a script. You run it and get an error. You now hate powershell.\n",
                "- Versions.\n",
                "- IDEs\n",
                "- tab completion\n",
                "- right click is copy\n",
                "- ctrl + r lets you search command history\n",
                "- profiles\n",
                "- daily commands: Get-Content (or cat) reads a file. Out-gridview\n",
                "- help and discoverability\n",
                "- modules!\n",
                "\n",
                "### The pipeline - objects, not plain text\n",
                "\n",
                "Demo - Discover properties and use Where-Object to find the commandlet name of an alias. \n",
                "\n",
                "Inspect like this: \n",
                "Select-Object * -First 1\n",
                "\n",
                "And like this:\n",
                "Get-Member\n",
                "\n",
                "\n",
                "\\- Providers\n",
                "\n",
                "\\- how to write a script\n",
                "\n",
                "  - parameters\n",
                "\n",
                "  - functions\n",
                "\n",
                "  debugger\n",
                "\n",
                "\\- Do something Cool\n",
                "\n",
                "\\-Give them a task?"
            ]
        },
        {
            "cell_type": "markdown",
            "metadata": {
                "azdata_cell_guid": "b432c1d7-a275-4925-8c1f-0e0ac5c4d82c"
            },
            "source": [
                "Providers let you learn ONE subset of syntax and apply it in SO MANY ways"
            ]
        },
        {
            "cell_type": "code",
            "execution_count": null,
            "metadata": {
                "dotnet_interactive": {
                    "language": "pwsh"
                }
            },
            "outputs": [
                {
                    "data": {
                        "text/plain": "\n"
                    },
                    "output_type": "unknown"
                },
                {
                    "data": {
                        "text/plain": "Name                 Capabilities                            Drives\n"
                    },
                    "output_type": "unknown"
                },
                {
                    "data": {
                        "text/plain": "----                 ------------                            ------\n"
                    },
                    "output_type": "unknown"
                },
                {
                    "data": {
                        "text/plain": "Alias                ShouldProcess                           {Alias}\n"
                    },
                    "output_type": "unknown"
                },
                {
                    "data": {
                        "text/plain": "Environment          ShouldProcess                           {Env}\n"
                    },
                    "output_type": "unknown"
                },
                {
                    "data": {
                        "text/plain": "FileSystem           Filter, ShouldProcess, Credentials      {/, Temp}\n"
                    },
                    "output_type": "unknown"
                },
                {
                    "data": {
                        "text/plain": "Function             ShouldProcess                           {Function}\n"
                    },
                    "output_type": "unknown"
                },
                {
                    "data": {
                        "text/plain": "Variable             ShouldProcess                           {Variable}\n"
                    },
                    "output_type": "unknown"
                },
                {
                    "data": {
                        "text/plain": "\n"
                    },
                    "output_type": "unknown"
                }
            ],
            "source": [
                "Get-PSProvider"
            ]
        },
        {
            "cell_type": "markdown",
            "metadata": {},
            "source": [
                "Each of these providers can use commandlets like New-Item, Get-Item, Get-ChildItem. Think of it like this... you've used 'dir' in Windows cmd or... DOS? or maybe 'ls' in bash. \n",
                "\n",
                "What if you could look at any number of systems with the same concept?\n",
                "\n",
                "Listing items with filtering, finding things you need. Grouping them and picking the parts you're interested in.\n"
            ]
        },
        {
            "cell_type": "code",
            "execution_count": null,
            "metadata": {
                "dotnet_interactive": {
                    "language": "pwsh"
                }
            },
            "outputs": [
                {
                    "data": {
                        "text/plain": "\n"
                    },
                    "output_type": "unknown"
                },
                {
                    "data": {
                        "text/plain": "CommandType     Name                                               Version    Source\n"
                    },
                    "output_type": "unknown"
                },
                {
                    "data": {
                        "text/plain": "-----------     ----                                               -------    ------\n"
                    },
                    "output_type": "unknown"
                },
                {
                    "data": {
                        "text/plain": "Alias           ? -> Where-Object                                             \n"
                    },
                    "output_type": "unknown"
                },
                {
                    "data": {
                        "text/plain": "Alias           % -> ForEach-Object                                           \n"
                    },
                    "output_type": "unknown"
                },
                {
                    "data": {
                        "text/plain": "Alias           And -> GherkinStep                                 4.1.1      Pester\n"
                    },
                    "output_type": "unknown"
                },
                {
                    "data": {
                        "text/plain": "Alias           But -> GherkinStep                                 4.1.1      Pester\n"
                    },
                    "output_type": "unknown"
                },
                {
                    "data": {
                        "text/plain": "Alias           cd -> Set-Location                                            \n"
                    },
                    "output_type": "unknown"
                },
                {
                    "data": {
                        "text/plain": "Alias           chdir -> Set-Location                                         \n"
                    },
                    "output_type": "unknown"
                },
                {
                    "data": {
                        "text/plain": "Alias           clc -> Clear-Content                                          \n"
                    },
                    "output_type": "unknown"
                },
                {
                    "data": {
                        "text/plain": "Alias           clhy -> Clear-History                                         \n"
                    },
                    "output_type": "unknown"
                },
                {
                    "data": {
                        "text/plain": "Alias           cli -> Clear-Item                                             \n"
                    },
                    "output_type": "unknown"
                },
                {
                    "data": {
                        "text/plain": "Alias           clp -> Clear-ItemProperty                                     \n"
                    },
                    "output_type": "unknown"
                },
                {
                    "data": {
                        "text/plain": "Alias           cls -> Clear-Host                                             \n"
                    },
                    "output_type": "unknown"
                },
                {
                    "data": {
                        "text/plain": "Alias           clv -> Clear-Variable                                         \n"
                    },
                    "output_type": "unknown"
                },
                {
                    "data": {
                        "text/plain": "Alias           copy -> Copy-Item                                             \n"
                    },
                    "output_type": "unknown"
                },
                {
                    "data": {
                        "text/plain": "Alias           cpi -> Copy-Item                                              \n"
                    },
                    "output_type": "unknown"
                },
                {
                    "data": {
                        "text/plain": "Alias           cvpa -> Convert-Path                                          \n"
                    },
                    "output_type": "unknown"
                },
                {
                    "data": {
                        "text/plain": "Alias           dbp -> Disable-PSBreakpoint                                   \n"
                    },
                    "output_type": "unknown"
                },
                {
                    "data": {
                        "text/plain": "Alias           del -> Remove-Item                                            \n"
                    },
                    "output_type": "unknown"
                },
                {
                    "data": {
                        "text/plain": "Alias           dir -> Get-ChildItem                                          \n"
                    },
                    "output_type": "unknown"
                },
                {
                    "data": {
                        "text/plain": "Alias           ebp -> Enable-PSBreakpoint                                    \n"
                    },
                    "output_type": "unknown"
                },
                {
                    "data": {
                        "text/plain": "Alias           echo -> Write-Output                                          \n"
                    },
                    "output_type": "unknown"
                },
                {
                    "data": {
                        "text/plain": "Alias           epal -> Export-Alias                                          \n"
                    },
                    "output_type": "unknown"
                },
                {
                    "data": {
                        "text/plain": "Alias           epcsv -> Export-Csv                                           \n"
                    },
                    "output_type": "unknown"
                },
                {
                    "data": {
                        "text/plain": "Alias           erase -> Remove-Item                                          \n"
                    },
                    "output_type": "unknown"
                },
                {
                    "data": {
                        "text/plain": "Alias           etsn -> Enter-PSSession                                       \n"
                    },
                    "output_type": "unknown"
                },
                {
                    "data": {
                        "text/plain": "Alias           exsn -> Exit-PSSession                                        \n"
                    },
                    "output_type": "unknown"
                },
                {
                    "data": {
                        "text/plain": "Alias           fc -> Format-Custom                                           \n"
                    },
                    "output_type": "unknown"
                },
                {
                    "data": {
                        "text/plain": "Alias           fhx -> Format-Hex                                  7.0.0.0    Microsoft.PowerShell…\n"
                    },
                    "output_type": "unknown"
                },
                {
                    "data": {
                        "text/plain": "Alias           fl -> Format-List                                             \n"
                    },
                    "output_type": "unknown"
                },
                {
                    "data": {
                        "text/plain": "Alias           foreach -> ForEach-Object                                     \n"
                    },
                    "output_type": "unknown"
                },
                {
                    "data": {
                        "text/plain": "Alias           ft -> Format-Table                                            \n"
                    },
                    "output_type": "unknown"
                },
                {
                    "data": {
                        "text/plain": "Alias           fw -> Format-Wide                                             \n"
                    },
                    "output_type": "unknown"
                },
                {
                    "data": {
                        "text/plain": "Alias           gal -> Get-Alias                                              \n"
                    },
                    "output_type": "unknown"
                },
                {
                    "data": {
                        "text/plain": "Alias           gbp -> Get-PSBreakpoint                                       \n"
                    },
                    "output_type": "unknown"
                },
                {
                    "data": {
                        "text/plain": "Alias           gc -> Get-Content                                             \n"
                    },
                    "output_type": "unknown"
                },
                {
                    "data": {
                        "text/plain": "Alias           gcb -> Get-Clipboard                               7.0.0.0    Microsoft.PowerShell…\n"
                    },
                    "output_type": "unknown"
                },
                {
                    "data": {
                        "text/plain": "Alias           gci -> Get-ChildItem                                          \n"
                    },
                    "output_type": "unknown"
                },
                {
                    "data": {
                        "text/plain": "Alias           gcm -> Get-Command                                            \n"
                    },
                    "output_type": "unknown"
                },
                {
                    "data": {
                        "text/plain": "Alias           gcs -> Get-PSCallStack                                        \n"
                    },
                    "output_type": "unknown"
                },
                {
                    "data": {
                        "text/plain": "Alias           gdr -> Get-PSDrive                                            \n"
                    },
                    "output_type": "unknown"
                },
                {
                    "data": {
                        "text/plain": "Alias           gerr -> Get-Error                                             \n"
                    },
                    "output_type": "unknown"
                },
                {
                    "data": {
                        "text/plain": "Alias           ghy -> Get-History                                            \n"
                    },
                    "output_type": "unknown"
                },
                {
                    "data": {
                        "text/plain": "Alias           gi -> Get-Item                                                \n"
                    },
                    "output_type": "unknown"
                },
                {
                    "data": {
                        "text/plain": "Alias           Given -> GherkinStep                               4.1.1      Pester\n"
                    },
                    "output_type": "unknown"
                },
                {
                    "data": {
                        "text/plain": "Alias           gjb -> Get-Job                                                \n"
                    },
                    "output_type": "unknown"
                },
                {
                    "data": {
                        "text/plain": "Alias           gl -> Get-Location                                            \n"
                    },
                    "output_type": "unknown"
                },
                {
                    "data": {
                        "text/plain": "Alias           gm -> Get-Member                                              \n"
                    },
                    "output_type": "unknown"
                },
                {
                    "data": {
                        "text/plain": "Alias           gmo -> Get-Module                                             \n"
                    },
                    "output_type": "unknown"
                },
                {
                    "data": {
                        "text/plain": "Alias           gp -> Get-ItemProperty                                        \n"
                    },
                    "output_type": "unknown"
                },
                {
                    "data": {
                        "text/plain": "Alias           gps -> Get-Process                                            \n"
                    },
                    "output_type": "unknown"
                },
                {
                    "data": {
                        "text/plain": "Alias           gpv -> Get-ItemPropertyValue                                  \n"
                    },
                    "output_type": "unknown"
                },
                {
                    "data": {
                        "text/plain": "Alias           group -> Group-Object                                         \n"
                    },
                    "output_type": "unknown"
                },
                {
                    "data": {
                        "text/plain": "Alias           gsn -> Get-PSSession                                          \n"
                    },
                    "output_type": "unknown"
                },
                {
                    "data": {
                        "text/plain": "Alias           gtz -> Get-TimeZone                                7.0.0.0    Microsoft.PowerShell…\n"
                    },
                    "output_type": "unknown"
                },
                {
                    "data": {
                        "text/plain": "Alias           gu -> Get-Unique                                              \n"
                    },
                    "output_type": "unknown"
                },
                {
                    "data": {
                        "text/plain": "Alias           gv -> Get-Variable                                            \n"
                    },
                    "output_type": "unknown"
                },
                {
                    "data": {
                        "text/plain": "Alias           h -> Get-History                                              \n"
                    },
                    "output_type": "unknown"
                },
                {
                    "data": {
                        "text/plain": "Alias           history -> Get-History                                        \n"
                    },
                    "output_type": "unknown"
                },
                {
                    "data": {
                        "text/plain": "Alias           icm -> Invoke-Command                                         \n"
                    },
                    "output_type": "unknown"
                },
                {
                    "data": {
                        "text/plain": "Alias           iex -> Invoke-Expression                                      \n"
                    },
                    "output_type": "unknown"
                },
                {
                    "data": {
                        "text/plain": "Alias           ihy -> Invoke-History                                         \n"
                    },
                    "output_type": "unknown"
                },
                {
                    "data": {
                        "text/plain": "Alias           ii -> Invoke-Item                                             \n"
                    },
                    "output_type": "unknown"
                },
                {
                    "data": {
                        "text/plain": "Alias           ipal -> Import-Alias                                          \n"
                    },
                    "output_type": "unknown"
                },
                {
                    "data": {
                        "text/plain": "Alias           ipcsv -> Import-Csv                                           \n"
                    },
                    "output_type": "unknown"
                },
                {
                    "data": {
                        "text/plain": "Alias           ipmo -> Import-Module                                         \n"
                    },
                    "output_type": "unknown"
                },
                {
                    "data": {
                        "text/plain": "Alias           irm -> Invoke-RestMethod                                      \n"
                    },
                    "output_type": "unknown"
                },
                {
                    "data": {
                        "text/plain": "Alias           iwr -> Invoke-WebRequest                                      \n"
                    },
                    "output_type": "unknown"
                },
                {
                    "data": {
                        "text/plain": "Alias           md -> mkdir                                                   \n"
                    },
                    "output_type": "unknown"
                },
                {
                    "data": {
                        "text/plain": "Alias           measure -> Measure-Object                                     \n"
                    },
                    "output_type": "unknown"
                },
                {
                    "data": {
                        "text/plain": "Alias           mi -> Move-Item                                               \n"
                    },
                    "output_type": "unknown"
                },
                {
                    "data": {
                        "text/plain": "Alias           move -> Move-Item                                             \n"
                    },
                    "output_type": "unknown"
                },
                {
                    "data": {
                        "text/plain": "Alias           mp -> Move-ItemProperty                                       \n"
                    },
                    "output_type": "unknown"
                },
                {
                    "data": {
                        "text/plain": "Alias           nal -> New-Alias                                              \n"
                    },
                    "output_type": "unknown"
                },
                {
                    "data": {
                        "text/plain": "Alias           ndr -> New-PSDrive                                            \n"
                    },
                    "output_type": "unknown"
                },
                {
                    "data": {
                        "text/plain": "Alias           ni -> New-Item                                                \n"
                    },
                    "output_type": "unknown"
                },
                {
                    "data": {
                        "text/plain": "Alias           nmo -> New-Module                                             \n"
                    },
                    "output_type": "unknown"
                },
                {
                    "data": {
                        "text/plain": "Alias           nsn -> New-PSSession                                          \n"
                    },
                    "output_type": "unknown"
                },
                {
                    "data": {
                        "text/plain": "Alias           nv -> New-Variable                                            \n"
                    },
                    "output_type": "unknown"
                },
                {
                    "data": {
                        "text/plain": "Alias           oh -> Out-Host                                                \n"
                    },
                    "output_type": "unknown"
                },
                {
                    "data": {
                        "text/plain": "Alias           popd -> Pop-Location                                          \n"
                    },
                    "output_type": "unknown"
                },
                {
                    "data": {
                        "text/plain": "Alias           pushd -> Push-Location                                        \n"
                    },
                    "output_type": "unknown"
                },
                {
                    "data": {
                        "text/plain": "Alias           pwd -> Get-Location                                           \n"
                    },
                    "output_type": "unknown"
                },
                {
                    "data": {
                        "text/plain": "Alias           r -> Invoke-History                                           \n"
                    },
                    "output_type": "unknown"
                },
                {
                    "data": {
                        "text/plain": "Alias           rbp -> Remove-PSBreakpoint                                    \n"
                    },
                    "output_type": "unknown"
                },
                {
                    "data": {
                        "text/plain": "Alias           rcjb -> Receive-Job                                           \n"
                    },
                    "output_type": "unknown"
                },
                {
                    "data": {
                        "text/plain": "Alias           rcsn -> Receive-PSSession                                     \n"
                    },
                    "output_type": "unknown"
                },
                {
                    "data": {
                        "text/plain": "Alias           rd -> Remove-Item                                             \n"
                    },
                    "output_type": "unknown"
                },
                {
                    "data": {
                        "text/plain": "Alias           rdr -> Remove-PSDrive                                         \n"
                    },
                    "output_type": "unknown"
                },
                {
                    "data": {
                        "text/plain": "Alias           ren -> Rename-Item                                            \n"
                    },
                    "output_type": "unknown"
                },
                {
                    "data": {
                        "text/plain": "Alias           ri -> Remove-Item                                             \n"
                    },
                    "output_type": "unknown"
                },
                {
                    "data": {
                        "text/plain": "Alias           rjb -> Remove-Job                                             \n"
                    },
                    "output_type": "unknown"
                },
                {
                    "data": {
                        "text/plain": "Alias           rmo -> Remove-Module                                          \n"
                    },
                    "output_type": "unknown"
                },
                {
                    "data": {
                        "text/plain": "Alias           rni -> Rename-Item                                            \n"
                    },
                    "output_type": "unknown"
                },
                {
                    "data": {
                        "text/plain": "Alias           rnp -> Rename-ItemProperty                                    \n"
                    },
                    "output_type": "unknown"
                },
                {
                    "data": {
                        "text/plain": "Alias           rp -> Remove-ItemProperty                                     \n"
                    },
                    "output_type": "unknown"
                },
                {
                    "data": {
                        "text/plain": "Alias           rsn -> Remove-PSSession                                       \n"
                    },
                    "output_type": "unknown"
                },
                {
                    "data": {
                        "text/plain": "Alias           rv -> Remove-Variable                                         \n"
                    },
                    "output_type": "unknown"
                },
                {
                    "data": {
                        "text/plain": "Alias           rvpa -> Resolve-Path                                          \n"
                    },
                    "output_type": "unknown"
                },
                {
                    "data": {
                        "text/plain": "Alias           sajb -> Start-Job                                             \n"
                    },
                    "output_type": "unknown"
                },
                {
                    "data": {
                        "text/plain": "Alias           sal -> Set-Alias                                              \n"
                    },
                    "output_type": "unknown"
                },
                {
                    "data": {
                        "text/plain": "Alias           saps -> Start-Process                                         \n"
                    },
                    "output_type": "unknown"
                },
                {
                    "data": {
                        "text/plain": "Alias           sbp -> Set-PSBreakpoint                                       \n"
                    },
                    "output_type": "unknown"
                },
                {
                    "data": {
                        "text/plain": "Alias           scb -> Set-Clipboard                               7.0.0.0    Microsoft.PowerShell…\n"
                    },
                    "output_type": "unknown"
                },
                {
                    "data": {
                        "text/plain": "Alias           select -> Select-Object                                       \n"
                    },
                    "output_type": "unknown"
                },
                {
                    "data": {
                        "text/plain": "Alias           set -> Set-Variable                                           \n"
                    },
                    "output_type": "unknown"
                },
                {
                    "data": {
                        "text/plain": "Alias           si -> Set-Item                                                \n"
                    },
                    "output_type": "unknown"
                },
                {
                    "data": {
                        "text/plain": "Alias           sl -> Set-Location                                            \n"
                    },
                    "output_type": "unknown"
                },
                {
                    "data": {
                        "text/plain": "Alias           sls -> Select-String                                          \n"
                    },
                    "output_type": "unknown"
                },
                {
                    "data": {
                        "text/plain": "Alias           sp -> Set-ItemProperty                                        \n"
                    },
                    "output_type": "unknown"
                },
                {
                    "data": {
                        "text/plain": "Alias           spjb -> Stop-Job                                              \n"
                    },
                    "output_type": "unknown"
                },
                {
                    "data": {
                        "text/plain": "Alias           spps -> Stop-Process                                          \n"
                    },
                    "output_type": "unknown"
                },
                {
                    "data": {
                        "text/plain": "Alias           sv -> Set-Variable                                            \n"
                    },
                    "output_type": "unknown"
                },
                {
                    "data": {
                        "text/plain": "Alias           Then -> GherkinStep                                4.1.1      Pester\n"
                    },
                    "output_type": "unknown"
                },
                {
                    "data": {
                        "text/plain": "Alias           type -> Get-Content                                           \n"
                    },
                    "output_type": "unknown"
                },
                {
                    "data": {
                        "text/plain": "Alias           When -> GherkinStep                                4.1.1      Pester\n"
                    },
                    "output_type": "unknown"
                },
                {
                    "data": {
                        "text/plain": "Alias           where -> Where-Object                                         \n"
                    },
                    "output_type": "unknown"
                },
                {
                    "data": {
                        "text/plain": "Alias           wjb -> Wait-Job                                               \n"
                    },
                    "output_type": "unknown"
                },
                {
                    "data": {
                        "text/plain": "\n"
                    },
                    "output_type": "unknown"
                }
            ],
            "source": [
                "#Get-ChildItem Variable:\\\n",
                "\n",
                "Get-ChildItem Alias:\\"
            ]
        },
        {
            "cell_type": "code",
            "execution_count": null,
            "metadata": {
                "dotnet_interactive": {
                    "language": "pwsh"
                }
            },
            "outputs": [
                {
                    "name": "stdout",
                    "output_type": "stream",
                    "text": [
                        "\n",
                        "PSCompatibleVersions      : {1.0, 2.0, 3.0, 4.0…}\n",
                        "SerializationVersion      : 1.1.0.1\n",
                        "GitCommitId               : 7.1.3\n",
                        "PSRemotingProtocolVersion : 2.3\n",
                        "PSVersion                 : 7.1.3\n",
                        "PSEdition                 : Core\n",
                        "WSManStackVersion         : 3.0\n",
                        "Platform                  : Unix\n",
                        "OS                        : Darwin 20.3.0 Darwin Kernel Version 20.3.0: Thu Jan\n",
                        "                             21 00:07:06 PST 2021; root:xnu-7195.81.3~1/RELEASE\n",
                        "                            _X86_64\n",
                        "\n",
                        "\n"
                    ]
                }
            ],
            "source": [
                "$PSVersionTable | select *"
            ]
        },
        {
            "cell_type": "markdown",
            "metadata": {
                "azdata_cell_guid": "bc8f8128-9f2f-4826-b19e-5d5c58a44702"
            },
            "source": [
                "The pipeline. Results are .Net objects. Not text that you'd have to parse. Oh yea, and 'What if'\n",
                "\n",
                "Just a note- notebooks don't seem to be great for commands that create files and such. maybe stick to math and objects, etc."
            ]
        },
        {
            "cell_type": "code",
            "execution_count": null,
            "metadata": {
                "dotnet_interactive": {
                    "language": "pwsh"
                }
            },
            "outputs": [
                {
                    "data": {
                        "text/plain": "What if: Performing the operation \"Create Directory\" on target \"Destination: /Users/zackknight/Documents/Programming/Repos/Notebook-pwsh-notes/~temp\".\n"
                    },
                    "output_type": "unknown"
                },
                {
                    "data": {
                        "text/plain": "What if: Performing the operation \"Create File\" on target \"Destination: /Users/zackknight/Documents/Programming/Repos/Notebook-pwsh-notes/~temp/myText.txt\".\n"
                    },
                    "output_type": "unknown"
                },
                {
                    "data": {
                        "text/plain": "What if: Performing the operation \"Set Content\" on target \"Path: /Users/zackknight/Documents/Programming/Repos/Notebook-pwsh-notes/~temp/myText.txt\".\n"
                    },
                    "output_type": "unknown"
                }
            ],
            "source": [
                "$myText = 'my fantastic text file'\n",
                "New-Item -Path ~temp/myText.txt  -ItemType File -Force -WhatIf\n",
                "Set-Content ~temp/myText.txt $myText -Verbose -WhatIf"
            ]
        },
        {
            "cell_type": "markdown",
            "metadata": {
                "azdata_cell_guid": "80cc62df-ab36-4738-b40a-7ddbe73e2010"
            },
            "source": [
                "The .. operator indicates a range. 1..5 means from 1 to 5. When you pipe a range to a foreach, each item in the pipeline is acted upon; 1, 2, 3, 4, 5."
            ]
        },
        {
            "cell_type": "code",
            "execution_count": null,
            "metadata": {
                "dotnet_interactive": {
                    "language": "pwsh"
                }
            },
            "outputs": [
                {
                    "data": {
                        "text/plain": "2\n"
                    },
                    "output_type": "unknown"
                },
                {
                    "data": {
                        "text/plain": "4\n"
                    },
                    "output_type": "unknown"
                },
                {
                    "data": {
                        "text/plain": "6\n"
                    },
                    "output_type": "unknown"
                },
                {
                    "data": {
                        "text/plain": "8\n"
                    },
                    "output_type": "unknown"
                },
                {
                    "data": {
                        "text/plain": "10\n"
                    },
                    "output_type": "unknown"
                }
            ],
            "source": [
                "1..5 | % {write-host ($_ + $_)}"
            ]
        },
        {
            "cell_type": "markdown",
            "metadata": {
                "azdata_cell_guid": "dd30f476-2ae0-494f-bf58-376e40482f46"
            },
            "source": [
                "Hash table syntax never sticks in my mind."
            ]
        },
        {
            "cell_type": "code",
            "execution_count": null,
            "metadata": {
                "dotnet_interactive": {
                    "language": "pwsh"
                }
            },
            "outputs": [
                {
                    "data": {
                        "text/plain": "7\n"
                    },
                    "output_type": "unknown"
                }
            ],
            "source": [
                "$myHashTable = @{\n",
                "    key = 'value'\n",
                "    secondKey = 'secondvalue'\n",
                "    numberKey = 5\n",
                "    innerObjectKey = @{\n",
                "        name = 'innerName'\n",
                "        id = 7\n",
                "    }\n",
                "    arrayKey = @( 'first', 'second', 'third')\n",
                "}\n",
                "\n",
                "$myHashTable.innerObjectKey.id "
            ]
        },
        {
            "cell_type": "markdown",
            "metadata": {
                "azdata_cell_guid": "04cee87c-9638-4470-83b7-587ea36f0aec"
            },
            "source": [
                "Probably becuase I get it mixed up with PS custom object"
            ]
        },
        {
            "cell_type": "code",
            "execution_count": null,
            "metadata": {
                "dotnet_interactive": {
                    "language": "pwsh"
                }
            },
            "outputs": [
                {
                    "data": {
                        "text/plain": "\n"
                    },
                    "output_type": "unknown"
                },
                {
                    "data": {
                        "text/plain": "Name                           Value\n"
                    },
                    "output_type": "unknown"
                },
                {
                    "data": {
                        "text/plain": "----                           -----\n"
                    },
                    "output_type": "unknown"
                },
                {
                    "data": {
                        "text/plain": "ArentIAHashKey                 8888.665423\n"
                    },
                    "output_type": "unknown"
                },
                {
                    "data": {
                        "text/plain": "\n"
                    },
                    "output_type": "unknown"
                }
            ],
            "source": [
                "$myCustomObject = New-Object PSCustomObject @{\n",
                "    ArentIAHashKey = 8888.665423\n",
                "}\n",
                "\n",
                "$myCustomObject"
            ]
        },
        {
            "cell_type": "markdown",
            "metadata": {
                "azdata_cell_guid": "133e9da4-7f24-4495-ae2b-e20e439f4d90"
            },
            "source": [
                "The most powerful thing I know about PowerShell is how to build an object from multiple data sets, by combining the properties that are important to your next function.\n",
                "Important bits here: \n",
                "making a new List and adding to it; \n",
                "finding a key by value in a hashtable - GETENUMERATOR!!!"
            ]
        },
        {
            "cell_type": "code",
            "execution_count": null,
            "metadata": {
                "dotnet_interactive": {
                    "language": "pwsh"
                }
            },
            "outputs": [
                {
                    "data": {
                        "text/plain": "\n"
                    },
                    "output_type": "unknown"
                },
                {
                    "data": {
                        "text/plain": "time    name   food\n"
                    },
                    "output_type": "unknown"
                },
                {
                    "data": {
                        "text/plain": "----    ----   ----\n"
                    },
                    "output_type": "unknown"
                },
                {
                    "data": {
                        "text/plain": "morning wilbur carrot\n"
                    },
                    "output_type": "unknown"
                },
                {
                    "data": {
                        "text/plain": "night   mabel  lettuce\n"
                    },
                    "output_type": "unknown"
                },
                {
                    "data": {
                        "text/plain": "\n"
                    },
                    "output_type": "unknown"
                }
            ],
            "source": [
                "$vegetableColors = @{\n",
                "    carrot = 'orange'\n",
                "    onion = 'white'\n",
                "    celery = 'light green'\n",
                "    lettuce = 'green'\n",
                "}\n",
                "\n",
                "$animals = @(\n",
                "    @{\n",
                "        type = 'horse'\n",
                "        name = 'wilbur'\n",
                "        feedTime = 'am'\n",
                "        vegColor = 'orange'\n",
                "    },\n",
                "    @{\n",
                "        type = 'cow'\n",
                "        name = 'mabel'\n",
                "        feedTime = 'pm'\n",
                "        vegColor = 'green'\n",
                "    }\n",
                ")\n",
                "\n",
                "# C# - var feedingSchedule = new List<object>();\n",
                "$feedingSchedule = New-Object System.Collections.Generic.List[object]\n",
                "\n",
                "foreach($animal in $animals){\n",
                "$feedingSchedule.Add(\n",
                "    @{\n",
                "        name = $animal.name\n",
                "        time = if($animal.feedTime -eq 'am'){'morning'}elseif($animal.feedTime -eq 'pm'){'night'}\n",
                "        food = $vegetableColors.GetEnumerator() | Where-Object { $_.Value -eq $animal.vegColor} | select -ExpandProperty Key\n",
                "    }\n",
                "    )\n",
                "}\n",
                "\n",
                "$feedingSchedule | Select-Object time, name, food"
            ]
        },
        {
            "cell_type": "markdown",
            "metadata": {
                "azdata_cell_guid": "93828e58-600a-49b6-9fce-08e8e1b41e46"
            },
            "source": [
                "\\*\\*show in REPL or Script\\*\\* As C# has nuget packages and JS has NPM, PoweShell has Modules\n",
                "\n",
                "Use what's out there, or write your own."
            ]
        },
        {
            "cell_type": "markdown",
            "metadata": {
                "azdata_cell_guid": "95935226-643a-465d-a8cf-9d8f4fba2d44"
            },
            "source": [
                "Testing - PowerShell tests are just more PowerShell. The defacto module to run tests is Pester and it's built in."
            ]
        },
        {
            "cell_type": "code",
            "execution_count": null,
            "metadata": {
                "dotnet_interactive": {
                    "language": "pwsh"
                }
            },
            "outputs": [
                {
                    "data": {
                        "text/plain": "\u001b[93mWARNING: OS Information retrieval is not possible, reports will contain only partial system data\u001b[0m\n"
                    },
                    "output_type": "unknown"
                },
                {
                    "data": {
                        "text/plain": "\u001b[97mExecuting all tests in '.'\u001b[0m\n"
                    },
                    "output_type": "unknown"
                },
                {
                    "data": {
                        "text/plain": "\u001b[97mTests completed in 0ms\u001b[0m\n"
                    },
                    "output_type": "unknown"
                },
                {
                    "data": {
                        "text/plain": "\u001b[32mTests Passed: 0, \u001b[0m"
                    },
                    "output_type": "unknown"
                },
                {
                    "data": {
                        "text/plain": "\u001b[90mFailed: 0, \u001b[0m"
                    },
                    "output_type": "unknown"
                },
                {
                    "data": {
                        "text/plain": "\u001b[90mSkipped: 0, \u001b[0m"
                    },
                    "output_type": "unknown"
                },
                {
                    "data": {
                        "text/plain": "\u001b[90mPending: 0, \u001b[0m"
                    },
                    "output_type": "unknown"
                },
                {
                    "data": {
                        "text/plain": "\u001b[90mInconclusive: 0 \u001b[0m\n"
                    },
                    "output_type": "unknown"
                }
            ],
            "source": [
                "Invoke-Pester"
            ]
        },
        {
            "cell_type": "markdown",
            "metadata": {
                "azdata_cell_guid": "ec26f2c5-4a3a-46b1-892a-78013cc455dc"
            },
            "source": [
                "### Arrays"
            ]
        },
        {
            "cell_type": "code",
            "execution_count": null,
            "metadata": {
                "dotnet_interactive": {
                    "language": "pwsh"
                }
            },
            "outputs": [
                {
                    "data": {
                        "text/plain": "\n"
                    },
                    "output_type": "unknown"
                },
                {
                    "data": {
                        "text/plain": "Lines Words Characters Property\n"
                    },
                    "output_type": "unknown"
                },
                {
                    "data": {
                        "text/plain": "----- ----- ---------- --------\n"
                    },
                    "output_type": "unknown"
                },
                {
                    "data": {
                        "text/plain": "         10            \n"
                    },
                    "output_type": "unknown"
                },
                {
                    "data": {
                        "text/plain": "\n"
                    },
                    "output_type": "unknown"
                }
            ],
            "source": [
                "$MyArray = @(\n",
                "    'yellow',\n",
                "    'white and teal',\n",
                "    'lavendar or violet',\n",
                "    'green',\n",
                "    'brown'\n",
                ")\n",
                "\n",
                "#$MyArray | Sort-Object\n",
                "\n",
                "#$MyArray[3]\n",
                "\n",
                "#$MyArray.Count\n",
                "\n",
                "# Expensive way - (creates a copy of the array)\n",
                "$MyArray += 'blue'\n",
                "\n",
                "$MyArray | Measure-Object -Word\n"
            ]
        }
    ],
    "metadata": {
        "kernelspec": {
            "display_name": "PowerShell",
            "language": "powershell",
            "name": "powershell"
        },
        "language_info": {
            "name": "powershell",
            "version": ""
        }
    },
    "nbformat": 4,
    "nbformat_minor": 2
}