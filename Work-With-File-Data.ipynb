{
 "cells": [
  {
   "cell_type": "markdown",
   "metadata": {
    "dotnet_interactive": {
     "language": "pwsh"
    }
   },
   "source": [
    "# Data in Files\n"
   ]
  },
  {
   "cell_type": "markdown",
   "metadata": {
    "dotnet_interactive": {
     "language": "markdown"
    }
   },
   "source": [
    "## A Text File\r\n",
    "\r\n",
    "When all you have is unstructured data, you can decide how to structure it and parse, or let powershell convert it."
   ]
  },
  {
   "cell_type": "code",
   "execution_count": null,
   "metadata": {
    "dotnet_interactive": {
     "language": "pwsh"
    }
   },
   "outputs": [],
   "source": [
    "Get-Content ./support-files/text-data.txt\n",
    "\n",
    "# Pipeline and ConvertTo"
   ]
  },
  {
   "cell_type": "markdown",
   "metadata": {
    "dotnet_interactive": {
     "language": "markdown"
    }
   },
   "source": [
    "You can find and replace in files."
   ]
  },
  {
   "cell_type": "code",
   "execution_count": null,
   "metadata": {
    "dotnet_interactive": {
     "language": "pwsh"
    }
   },
   "outputs": [],
   "source": [
    "$targetFile = './support-files\\text-data.txt'\r\n",
    "\r\n",
    "$KeepThisText = Get-content -Path $targetFile | Select-String -pattern '/ZZ' -notmatch\r\n",
    "\r\n",
    "Set-Content -Path $targetFile -Value $KeepThisText -WhatIf"
   ]
  },
  {
   "cell_type": "markdown",
   "metadata": {
    "dotnet_interactive": {
     "language": "markdown"
    }
   },
   "source": [
    "## A CSV File\r\n",
    "\r\n",
    "I show at least two ways here\r\n",
    "\r\n",
    "Could we create an object model to use in an app using `Get-Member`?\r\n",
    "\r\n",
    "Note: There's a tool in Visual Studio to do this for json"
   ]
  },
  {
   "cell_type": "code",
   "execution_count": null,
   "metadata": {
    "dotnet_interactive": {
     "language": "pwsh"
    }
   },
   "outputs": [],
   "source": [
    "Get-Content ./support-files/lilData.csv #| ConvertFrom-Csv"
   ]
  },
  {
   "cell_type": "code",
   "execution_count": null,
   "metadata": {
    "dotnet_interactive": {
     "language": "pwsh"
    }
   },
   "outputs": [],
   "source": [
    "Import-Csv ./support-files/lilData.csv"
   ]
  },
  {
   "cell_type": "markdown",
   "metadata": {
    "dotnet_interactive": {
     "language": "markdown"
    }
   },
   "source": [
    "## An Xml File\r\n",
    "\r\n",
    "If you MUST work with xml... powershell lets you convert a string of xml to a document. \r\n",
    "\r\n",
    "You can traverse it with XPath and all the other fancy xml methods."
   ]
  },
  {
   "cell_type": "code",
   "execution_count": null,
   "metadata": {
    "dotnet_interactive": {
     "language": "pwsh"
    }
   },
   "outputs": [],
   "source": [
    "$myXml = [xml](Get-Content ./support-files/world-data.xml) \r\n",
    "\r\n",
    "$myXml.ChildNodes.Object.ChildNodes"
   ]
  },
  {
   "cell_type": "markdown",
   "metadata": {
    "dotnet_interactive": {
     "language": "markdown"
    }
   },
   "source": [
    "## A JSON File"
   ]
  },
  {
   "cell_type": "code",
   "execution_count": null,
   "metadata": {
    "dotnet_interactive": {
     "language": "pwsh"
    }
   },
   "outputs": [],
   "source": [
    "Get-Content "
   ]
  },
  {
   "cell_type": "markdown",
   "metadata": {
    "dotnet_interactive": {
     "language": "markdown"
    }
   },
   "source": [
    "## An Excel Spreadsheet\r\n",
    "\r\n",
    "Search Youtube for Doug Finke's demo of the Import-Excel module.\r\n",
    "\r\n",
    "I can't do it justice here. You don't need Excel installed."
   ]
  },
  {
   "cell_type": "code",
   "execution_count": null,
   "metadata": {
    "dotnet_interactive": {
     "language": "pwsh"
    }
   },
   "outputs": [],
   "source": [
    "Install-Module Import-Excel"
   ]
  },
  {
   "cell_type": "markdown",
   "metadata": {
    "azdata_cell_guid": "133e9da4-7f24-4495-ae2b-e20e439f4d90"
   },
   "source": [
    "## Data Wrangling\n",
    "\n",
    "Build a custom data set from multiple data sources.\n",
    "\n",
    "Important bits here: \n",
    "\n",
    "- Make a new List and add to it; Rather than `$Array += $AddedItem`\n",
    "- Find a key by value in a hashtable - GETENUMERATOR!!!"
   ]
  },
  {
   "cell_type": "code",
   "execution_count": null,
   "metadata": {
    "dotnet_interactive": {
     "language": "pwsh"
    }
   },
   "outputs": [],
   "source": [
    "$vegetableColors = @{\r\n",
    "    carrot = 'orange'\r\n",
    "    onion = 'white'\r\n",
    "    celery = 'light green'\r\n",
    "    lettuce = 'green'\r\n",
    "}"
   ]
  },
  {
   "cell_type": "code",
   "execution_count": null,
   "metadata": {
    "dotnet_interactive": {
     "language": "pwsh"
    }
   },
   "outputs": [],
   "source": [
    "$animals = @(\r\n",
    "    [pscustomobject]@{\r\n",
    "        species = 'horse'\r\n",
    "        name = 'wilbur'\r\n",
    "        feedTime = 'am'\r\n",
    "        vegColor = 'orange'\r\n",
    "    },\r\n",
    "    [pscustomobject]@{\r\n",
    "        species = 'cow'\r\n",
    "        name = 'mabel'\r\n",
    "        feedTime = 'pm'\r\n",
    "        vegColor = 'green'\r\n",
    "    }\r\n",
    ")"
   ]
  },
  {
   "cell_type": "code",
   "execution_count": null,
   "metadata": {
    "dotnet_interactive": {
     "language": "pwsh"
    }
   },
   "outputs": [],
   "source": [
    "# C# would look like:  var feedingSchedule = new List<object>();\r\n",
    "$feedingSchedule = New-Object System.Collections.Generic.List[object]\r\n",
    "\r\n",
    "foreach($animal in $animals){\r\n",
    "$feedingSchedule.Add(\r\n",
    "    [pscustomobject]@{\r\n",
    "        Name = $animal.name\r\n",
    "        Shift = if($animal.feedTime -eq 'am'){'morning'}elseif($animal.feedTime -eq 'pm'){'night'}\r\n",
    "        Food = $vegetableColors.GetEnumerator() | Where-Object { $_.Value -eq $animal.vegColor} | select -ExpandProperty Key\r\n",
    "    }\r\n",
    "    )\r\n",
    "}\r\n",
    "\r\n",
    "$feedingSchedule | Select-Object Shift, Name, Food | Format-Table "
   ]
  }
 ],
 "metadata": {
  "kernelspec": {
   "display_name": ".NET (C#)",
   "language": "C#",
   "name": ".net-csharp"
  },
  "language_info": {
   "file_extension": ".cs",
   "mimetype": "text/x-csharp",
   "name": "C#",
   "pygments_lexer": "csharp",
   "version": "9.0"
  },
  "orig_nbformat": 3
 },
 "nbformat": 4,
 "nbformat_minor": 2
}