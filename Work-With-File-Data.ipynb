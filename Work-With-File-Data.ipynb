{
 "cells": [
  {
   "cell_type": "markdown",
   "metadata": {
    "dotnet_interactive": {
     "language": "pwsh"
    }
   },
   "source": [
    "# Data in Files\n"
   ]
  },
  {
   "cell_type": "markdown",
   "metadata": {
    "dotnet_interactive": {
     "language": "markdown"
    }
   },
   "source": [
    "## A Text File\n"
   ]
  },
  {
   "cell_type": "code",
   "execution_count": null,
   "metadata": {
    "dotnet_interactive": {
     "language": "pwsh"
    }
   },
   "outputs": [],
   "source": [
    "Get-Content ./support-files/text-data.txt\n",
    "\n",
    "# Pipeline and ConvertTo"
   ]
  },
  {
   "cell_type": "markdown",
   "metadata": {
    "dotnet_interactive": {
     "language": "markdown"
    }
   },
   "source": [
    "## A CSV File\n",
    "\n",
    "Could we create an object model to use in an app using `Get-Member`?\n",
    "\n",
    "Note: There's a tool in Visual Studio to do this for json"
   ]
  },
  {
   "cell_type": "code",
   "execution_count": null,
   "metadata": {
    "dotnet_interactive": {
     "language": "pwsh"
    }
   },
   "outputs": [],
   "source": [
    "Get-Content ./support-files/lilData.csv #| ConvertFrom-Csv"
   ]
  },
  {
   "cell_type": "markdown",
   "metadata": {
    "dotnet_interactive": {
     "language": "markdown"
    }
   },
   "source": [
    "## An Xml File"
   ]
  },
  {
   "cell_type": "code",
   "execution_count": null,
   "metadata": {
    "dotnet_interactive": {
     "language": "pwsh"
    }
   },
   "outputs": [],
   "source": [
    "$myXml = [xml](Get-Content ./support-files/world-data.xml) \r\n",
    "\r\n",
    "$myXml.ChildNodes.Object.ChildNodes"
   ]
  },
  {
   "cell_type": "markdown",
   "metadata": {
    "dotnet_interactive": {
     "language": "markdown"
    }
   },
   "source": [
    "## A JSON File"
   ]
  },
  {
   "cell_type": "code",
   "execution_count": null,
   "metadata": {
    "dotnet_interactive": {
     "language": "pwsh"
    }
   },
   "outputs": [],
   "source": [
    "Get-Content "
   ]
  },
  {
   "cell_type": "markdown",
   "metadata": {
    "dotnet_interactive": {
     "language": "markdown"
    }
   },
   "source": [
    "## An Excel Spreadsheet\r\n",
    "\r\n",
    "Search Youtube for Doug Finke's demo of the Import-Excel module.\r\n",
    "\r\n",
    "I can't do it justice here. You don't need Excel installed."
   ]
  },
  {
   "cell_type": "code",
   "execution_count": null,
   "metadata": {
    "dotnet_interactive": {
     "language": "pwsh"
    }
   },
   "outputs": [],
   "source": [
    "Install-Module Import-Excel"
   ]
  }
 ],
 "metadata": {
  "kernelspec": {
   "display_name": ".NET (C#)",
   "language": "C#",
   "name": ".net-csharp"
  },
  "language_info": {
   "file_extension": ".cs",
   "mimetype": "text/x-csharp",
   "name": "C#",
   "pygments_lexer": "csharp",
   "version": "9.0"
  },
  "orig_nbformat": 3
 },
 "nbformat": 4,
 "nbformat_minor": 2
}