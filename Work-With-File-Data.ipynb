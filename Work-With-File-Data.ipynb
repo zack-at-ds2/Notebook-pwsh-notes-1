{
 "cells": [
  {
   "cell_type": "markdown",
   "metadata": {
    "dotnet_interactive": {
     "language": "pwsh"
    }
   },
   "source": [
    "# Data in Files\n"
   ]
  },
  {
   "cell_type": "markdown",
   "metadata": {
    "dotnet_interactive": {
     "language": "markdown"
    }
   },
   "source": [
    "## A Text File\n",
    "\n",
    "When all you have is unstructured data, you can decide how to structure it and parse, or let powershell convert it."
   ]
  },
  {
   "cell_type": "code",
   "execution_count": null,
   "metadata": {
    "dotnet_interactive": {
     "language": "pwsh"
    },
    "vscode": {
     "languageId": "dotnet-interactive.pwsh"
    }
   },
   "outputs": [],
   "source": [
    "Get-Content ./support-files/text-data.txt "
   ]
  },
  {
   "cell_type": "markdown",
   "metadata": {
    "dotnet_interactive": {
     "language": "markdown"
    }
   },
   "source": [
    "You can find and replace in files."
   ]
  },
  {
   "cell_type": "code",
   "execution_count": null,
   "metadata": {
    "dotnet_interactive": {
     "language": "pwsh"
    },
    "vscode": {
     "languageId": "dotnet-interactive.pwsh"
    }
   },
   "outputs": [
    {
     "data": {
      "text/plain": [
       "What if: Performing the operation \"Set Content\" on target \"Path: /Users/zackknight/Documents/Programming/Repos/Notebook-pwsh-notes/support-files/text-data.txt\".\n"
      ]
     },
     "output_type": "unknown"
    }
   ],
   "source": [
    "$targetFile = './support-files\\text-data.txt'\n",
    "\n",
    "$KeepThisText = Get-content -Path $targetFile | Select-String -pattern '/ZZ' -notmatch\n",
    "\n",
    "Set-Content -Path $targetFile -Value $KeepThisText -WhatIf"
   ]
  },
  {
   "cell_type": "markdown",
   "metadata": {
    "dotnet_interactive": {
     "language": "markdown"
    }
   },
   "source": [
    "## A CSV File\n",
    "\n",
    "I show at least two ways here\n",
    "\n",
    "Could we create an object model to use in an app using `Get-Member`?\n",
    "\n",
    "Note: There's a tool in Visual Studio to do this for json"
   ]
  },
  {
   "cell_type": "code",
   "execution_count": null,
   "metadata": {
    "dotnet_interactive": {
     "language": "pwsh"
    },
    "vscode": {
     "languageId": "dotnet-interactive.pwsh"
    }
   },
   "outputs": [],
   "source": [
    "Get-Content ./support-files/lilData.csv | ConvertFrom-Csv"
   ]
  },
  {
   "cell_type": "code",
   "execution_count": null,
   "metadata": {
    "dotnet_interactive": {
     "language": "pwsh"
    },
    "vscode": {
     "languageId": "dotnet-interactive.pwsh"
    }
   },
   "outputs": [],
   "source": [
    "Import-Csv ./support-files/lilData.csv"
   ]
  },
  {
   "cell_type": "markdown",
   "metadata": {
    "dotnet_interactive": {
     "language": "markdown"
    }
   },
   "source": [
    "## An Xml File\n",
    "\n",
    "If you MUST work with xml... powershell lets you convert a string of xml to a document. \n",
    "\n",
    "You can traverse it with XPath and all the other fancy xml methods."
   ]
  },
  {
   "cell_type": "code",
   "execution_count": null,
   "metadata": {
    "dotnet_interactive": {
     "language": "pwsh"
    },
    "vscode": {
     "languageId": "dotnet-interactive.pwsh"
    }
   },
   "outputs": [],
   "source": [
    "$myXml = [xml](Get-Content ./support-files/world-data.xml) \n",
    "\n",
    "$myXml.ChildNodes.Object.ChildNodes"
   ]
  },
  {
   "cell_type": "markdown",
   "metadata": {
    "dotnet_interactive": {
     "language": "markdown"
    }
   },
   "source": [
    "## A JSON File"
   ]
  },
  {
   "cell_type": "code",
   "execution_count": null,
   "metadata": {
    "dotnet_interactive": {
     "language": "pwsh"
    },
    "vscode": {
     "languageId": "dotnet-interactive.pwsh"
    }
   },
   "outputs": [],
   "source": [
    "Get-Content ./support-files/myJSON.json | ConvertFrom-Json"
   ]
  },
  {
   "cell_type": "markdown",
   "metadata": {
    "dotnet_interactive": {
     "language": "markdown"
    }
   },
   "source": [
    "## An Excel Spreadsheet\n",
    "\n",
    "Search Youtube for Doug Finke's demo of the Import-Excel module.\n",
    "\n",
    "I can't do it justice here. You don't need Excel installed."
   ]
  },
  {
   "cell_type": "code",
   "execution_count": null,
   "metadata": {
    "dotnet_interactive": {
     "language": "pwsh"
    },
    "vscode": {
     "languageId": "dotnet-interactive.pwsh"
    }
   },
   "outputs": [],
   "source": [
    "Install-Module Import-Excel"
   ]
  },
  {
   "cell_type": "markdown",
   "metadata": {
    "azdata_cell_guid": "133e9da4-7f24-4495-ae2b-e20e439f4d90"
   },
   "source": [
    "## Data Wrangling\n",
    "\n",
    "Build a custom data set from multiple data sources.\n",
    "\n",
    "Important bits here: \n",
    "\n",
    "- Make a new List and add to it; Rather than `$Array += $AddedItem`\n",
    "- Find a key by value in a hashtable - GETENUMERATOR!!!"
   ]
  },
  {
   "cell_type": "code",
   "execution_count": null,
   "metadata": {
    "dotnet_interactive": {
     "language": "pwsh"
    },
    "vscode": {
     "languageId": "dotnet-interactive.pwsh"
    }
   },
   "outputs": [],
   "source": [
    "$vegetableColors = @{\n",
    "    carrot = 'orange'\n",
    "    onion = 'white'\n",
    "    celery = 'light green'\n",
    "    lettuce = 'green'\n",
    "}"
   ]
  },
  {
   "cell_type": "code",
   "execution_count": null,
   "metadata": {
    "dotnet_interactive": {
     "language": "pwsh"
    },
    "vscode": {
     "languageId": "dotnet-interactive.pwsh"
    }
   },
   "outputs": [],
   "source": [
    "$animals = @(\n",
    "    [pscustomobject]@{\n",
    "        species = 'horse'\n",
    "        name = 'wilbur'\n",
    "        feedTime = 'am'\n",
    "        vegColor = 'orange'\n",
    "    },\n",
    "    [pscustomobject]@{\n",
    "        species = 'cow'\n",
    "        name = 'mabel'\n",
    "        feedTime = 'pm'\n",
    "        vegColor = 'green'\n",
    "    }\n",
    ")"
   ]
  },
  {
   "cell_type": "code",
   "execution_count": null,
   "metadata": {
    "dotnet_interactive": {
     "language": "pwsh"
    },
    "vscode": {
     "languageId": "dotnet-interactive.pwsh"
    }
   },
   "outputs": [
    {
     "data": {
      "text/plain": [
       "\n"
      ]
     },
     "output_type": "unknown"
    },
    {
     "data": {
      "text/plain": [
       "Shift   Section Food\n"
      ]
     },
     "output_type": "unknown"
    },
    {
     "data": {
      "text/plain": [
       "-----   ------- ----\n"
      ]
     },
     "output_type": "unknown"
    },
    {
     "data": {
      "text/plain": [
       "morning horse   carrot\n"
      ]
     },
     "output_type": "unknown"
    },
    {
     "data": {
      "text/plain": [
       "night   cow     lettuce\n"
      ]
     },
     "output_type": "unknown"
    },
    {
     "data": {
      "text/plain": [
       "\n"
      ]
     },
     "output_type": "unknown"
    }
   ],
   "source": [
    "# C# would look like:  var feedingSchedule = new List<object>();\n",
    "$feedingSchedule = New-Object System.Collections.Generic.List[object]\n",
    "\n",
    "foreach($animal in $animals){\n",
    "$feedingSchedule.Add(\n",
    "    [pscustomobject]@{\n",
    "        Section = $animal.species\n",
    "        Shift = if($animal.feedTime -eq 'am'){'morning'}elseif($animal.feedTime -eq 'pm'){'night'}\n",
    "        Food = $vegetableColors.GetEnumerator() | Where-Object { $_.Value -eq $animal.vegColor} | select -ExpandProperty Key\n",
    "    }\n",
    "    )\n",
    "}\n",
    "\n",
    "$feedingSchedule | Select-Object Shift, Section, Food | Format-Table "
   ]
  }
 ],
 "metadata": {
  "kernelspec": {
   "display_name": ".NET (C#)",
   "language": "C#",
   "name": ".net-csharp"
  },
  "language_info": {
   "file_extension": ".cs",
   "mimetype": "text/x-csharp",
   "name": "C#",
   "pygments_lexer": "csharp",
   "version": "9.0"
  },
  "orig_nbformat": 3
 },
 "nbformat": 4,
 "nbformat_minor": 2
}
