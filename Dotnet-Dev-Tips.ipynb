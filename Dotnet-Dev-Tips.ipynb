{
 "cells": [
  {
   "cell_type": "code",
   "execution_count": null,
   "metadata": {},
   "outputs": [],
   "source": []
  },
  {
   "cell_type": "markdown",
   "metadata": {},
   "source": [
    "A list of PowerShell concepts to support .NET devs \n",
    "\n",
    "MSBuild - You can write powershell to automate build steps and call them from your .csproj file. It's archaic and difficult but sometimes it's the easiest way to magic some extra steps to pulling a project together:\n",
    "\n",
    "https://gist.github.com/fearthecowboy/9e06ad9d92c5d939582147a35c049693\n",
    "\n",
    "The Package Manager Console in Visual Studio\n",
    "\n",
    "The DTE object - or how to automate visual studio"
   ]
  }
 ],
 "metadata": {
  "language_info": {
   "name": "python"
  },
  "orig_nbformat": 4
 },
 "nbformat": 4,
 "nbformat_minor": 2
}
